{
 "cells": [
  {
   "cell_type": "code",
   "execution_count": 2,
   "metadata": {},
   "outputs": [],
   "source": [
    "# Load dependencies\n",
    "\n",
    "import numpy as np\n",
    "import pandas as pd\n",
    "import matplotlib.pyplot as plt\n",
    "import seaborn as sns\n",
    "import os\n"
   ]
  },
  {
   "cell_type": "code",
   "execution_count": 3,
   "metadata": {},
   "outputs": [
    {
     "name": "stdout",
     "output_type": "stream",
     "text": [
      "                amt           lat          long      city_pop     merch_lat  \\\n",
      "count  14446.000000  14446.000000  14446.000000  1.444600e+04  14446.000000   \n",
      "mean     124.430073     39.787692   -110.874225  1.065370e+05     39.787991   \n",
      "std      231.352587      5.317039     12.985813  2.902916e+05      5.360593   \n",
      "min        1.000000     20.027100   -165.672300  4.600000e+01     19.032689   \n",
      "25%       12.080000     36.715400   -120.415800  4.930000e+02     36.794655   \n",
      "50%       51.520000     39.666200   -111.098500  1.645000e+03     39.620953   \n",
      "75%      101.030000     41.940400   -101.136000  3.543900e+04     42.275740   \n",
      "max     3261.470000     66.693300    -89.628700  2.383912e+06     67.510267   \n",
      "\n",
      "         merch_long  \n",
      "count  14446.000000  \n",
      "mean    -110.874892  \n",
      "std       12.995596  \n",
      "min     -166.670685  \n",
      "25%     -120.146253  \n",
      "50%     -111.192629  \n",
      "75%     -100.446822  \n",
      "max      -88.646366  \n",
      "<class 'pandas.core.frame.DataFrame'>\n",
      "RangeIndex: 14446 entries, 0 to 14445\n",
      "Data columns (total 15 columns):\n",
      " #   Column                 Non-Null Count  Dtype  \n",
      "---  ------                 --------------  -----  \n",
      " 0   trans_date_trans_time  14446 non-null  object \n",
      " 1   merchant               14446 non-null  object \n",
      " 2   category               14446 non-null  object \n",
      " 3   amt                    14446 non-null  float64\n",
      " 4   city                   14446 non-null  object \n",
      " 5   state                  14446 non-null  object \n",
      " 6   lat                    14446 non-null  float64\n",
      " 7   long                   14446 non-null  float64\n",
      " 8   city_pop               14446 non-null  int64  \n",
      " 9   job                    14446 non-null  object \n",
      " 10  dob                    14446 non-null  object \n",
      " 11  trans_num              14446 non-null  object \n",
      " 12  merch_lat              14446 non-null  float64\n",
      " 13  merch_long             14446 non-null  float64\n",
      " 14  is_fraud               14446 non-null  object \n",
      "dtypes: float64(5), int64(1), object(9)\n",
      "memory usage: 1.7+ MB\n",
      "None\n"
     ]
    }
   ],
   "source": [
    "# Load data from the csv file\n",
    "\n",
    "datadf = pd.read_csv(\"Dataset/fraud_data.csv\")\n",
    "\n",
    "# Descriptive statistics of the data\n",
    "print(datadf.describe())\n",
    "\n",
    "# Describe the data\n",
    "print(datadf.info())"
   ]
  },
  {
   "cell_type": "code",
   "execution_count": 4,
   "metadata": {},
   "outputs": [
    {
     "name": "stdout",
     "output_type": "stream",
     "text": [
      "The dataset contains 14435 transactions.\n",
      "The dataset transactions begin on 2019-01-01 00:00:00.\n",
      "The dataset transactions end on 2020-12-31 23:59:00.\n"
     ]
    }
   ],
   "source": [
    "# Convert 'trans_date_trans_time' column to datetime type\n",
    "datadf['trans_date_trans_time'] = pd.to_datetime(datadf['trans_date_trans_time'], format='%d-%m-%Y %H:%M')\n",
    "\n",
    "# Extract date components from 'trans_date_trans_time'\n",
    "datadf['trans_year'] = datadf['trans_date_trans_time'].dt.year\n",
    "datadf['trans_month'] = datadf['trans_date_trans_time'].dt.month\n",
    "datadf['trans_day'] = datadf['trans_date_trans_time'].dt.day\n",
    "datadf['trans_hour'] = datadf['trans_date_trans_time'].dt.hour\n",
    "datadf['trans_minute'] = datadf['trans_date_trans_time'].dt.minute\n",
    "datadf['trans_second'] = datadf['trans_date_trans_time'].dt.second\n",
    "\n",
    "# Convert 'dob' column to datetime type \n",
    "datadf['dob'] = pd.to_datetime(datadf['dob'], format='%d-%m-%Y')\n",
    "\n",
    "# Extract year from 'dob'\n",
    "datadf['dob_year'] = datadf['dob'].dt.year\n",
    "\n",
    "\n",
    "# Drop unwanted rows and clean up formatting\n",
    "datadf = datadf[(datadf['is_fraud'] == \"0\") | (datadf['is_fraud'] == \"1\")]\n",
    "datadf.dropna()\n",
    "datadf = datadf[datadf[\"amt\"]<=1500]\n",
    "datadf['merchant'] = datadf['merchant'].str.replace('\"', '')\n",
    "datadf['job'] = datadf['job'].str.replace('\"', '')\n",
    "\n",
    "# Create sub-dataframes and print confines of dataset\n",
    "datadf #complete and cleaned dataframe\n",
    "#frauddf = datadf[datadf[\"is_fraud\"]==\"1\"] #dataframe of all fradulent data (best for after all columns are added)\n",
    "#truedf = datadf[datadf[\"is_fraud\"]==\"0\"] #dataframe of all clean data (best for after all columns are added)\n",
    "\n",
    "# Print the number of transactions in the dataset\n",
    "print(f'The dataset contains {len(datadf)} transactions.')\n",
    "# Print the time period of the dataset\n",
    "print(f'The dataset transactions begin on {datadf[\"trans_date_trans_time\"].min()}.')\n",
    "print(f'The dataset transactions end on {datadf[\"trans_date_trans_time\"].max()}.')"
   ]
  },
  {
   "cell_type": "markdown",
   "metadata": {},
   "source": [
    "### Task 4: Analyze Merchants and Categories with Higher Fraud Incidence\n",
    "\n",
    "- **Assigned to Person D:**\n",
    "  - Identify which merchants and categories have the highest rates of fraud by calculating fraud incidence for each."
   ]
  },
  {
   "cell_type": "code",
   "execution_count": 13,
   "metadata": {},
   "outputs": [
    {
     "data": {
      "text/html": [
       "<div>\n",
       "<style scoped>\n",
       "    .dataframe tbody tr th:only-of-type {\n",
       "        vertical-align: middle;\n",
       "    }\n",
       "\n",
       "    .dataframe tbody tr th {\n",
       "        vertical-align: top;\n",
       "    }\n",
       "\n",
       "    .dataframe thead th {\n",
       "        text-align: right;\n",
       "    }\n",
       "</style>\n",
       "<table border=\"1\" class=\"dataframe\">\n",
       "  <thead>\n",
       "    <tr style=\"text-align: right;\">\n",
       "      <th></th>\n",
       "      <th>Merchant</th>\n",
       "      <th>Category</th>\n",
       "      <th>Fraud Count</th>\n",
       "      <th>states</th>\n",
       "    </tr>\n",
       "  </thead>\n",
       "  <tbody>\n",
       "    <tr>\n",
       "      <th>24</th>\n",
       "      <td>Kiehn-Emmerich</td>\n",
       "      <td>grocery_pos</td>\n",
       "      <td>20</td>\n",
       "      <td>NE</td>\n",
       "    </tr>\n",
       "    <tr>\n",
       "      <th>76</th>\n",
       "      <td>Romaguera, Cruickshank and Greenholt</td>\n",
       "      <td>shopping_net</td>\n",
       "      <td>18</td>\n",
       "      <td>CA</td>\n",
       "    </tr>\n",
       "    <tr>\n",
       "      <th>55</th>\n",
       "      <td>Kerluke-Abshire</td>\n",
       "      <td>shopping_net</td>\n",
       "      <td>18</td>\n",
       "      <td>UT</td>\n",
       "    </tr>\n",
       "    <tr>\n",
       "      <th>123</th>\n",
       "      <td>Kunze Inc</td>\n",
       "      <td>grocery_pos</td>\n",
       "      <td>16</td>\n",
       "      <td>NM</td>\n",
       "    </tr>\n",
       "    <tr>\n",
       "      <th>70</th>\n",
       "      <td>Kilback LLC</td>\n",
       "      <td>grocery_pos</td>\n",
       "      <td>15</td>\n",
       "      <td>CA</td>\n",
       "    </tr>\n",
       "    <tr>\n",
       "      <th>27</th>\n",
       "      <td>Terry-Huel</td>\n",
       "      <td>shopping_net</td>\n",
       "      <td>14</td>\n",
       "      <td>CA</td>\n",
       "    </tr>\n",
       "    <tr>\n",
       "      <th>3</th>\n",
       "      <td>Murray-Smitham</td>\n",
       "      <td>grocery_pos</td>\n",
       "      <td>14</td>\n",
       "      <td>AK</td>\n",
       "    </tr>\n",
       "    <tr>\n",
       "      <th>159</th>\n",
       "      <td>Strosin-Cruickshank</td>\n",
       "      <td>grocery_pos</td>\n",
       "      <td>14</td>\n",
       "      <td>MO</td>\n",
       "    </tr>\n",
       "    <tr>\n",
       "      <th>32</th>\n",
       "      <td>Kutch and Sons</td>\n",
       "      <td>grocery_pos</td>\n",
       "      <td>14</td>\n",
       "      <td>CA</td>\n",
       "    </tr>\n",
       "    <tr>\n",
       "      <th>10</th>\n",
       "      <td>Gottlieb, Considine and Schultz</td>\n",
       "      <td>shopping_net</td>\n",
       "      <td>13</td>\n",
       "      <td>MO</td>\n",
       "    </tr>\n",
       "  </tbody>\n",
       "</table>\n",
       "</div>"
      ],
      "text/plain": [
       "                                 Merchant      Category  Fraud Count states\n",
       "24                         Kiehn-Emmerich   grocery_pos           20     NE\n",
       "76   Romaguera, Cruickshank and Greenholt  shopping_net           18     CA\n",
       "55                        Kerluke-Abshire  shopping_net           18     UT\n",
       "123                             Kunze Inc   grocery_pos           16     NM\n",
       "70                            Kilback LLC   grocery_pos           15     CA\n",
       "27                             Terry-Huel  shopping_net           14     CA\n",
       "3                          Murray-Smitham   grocery_pos           14     AK\n",
       "159                   Strosin-Cruickshank   grocery_pos           14     MO\n",
       "32                         Kutch and Sons   grocery_pos           14     CA\n",
       "10        Gottlieb, Considine and Schultz  shopping_net           13     MO"
      ]
     },
     "execution_count": 13,
     "metadata": {},
     "output_type": "execute_result"
    }
   ],
   "source": [
    "data_is_fraud = datadf[datadf[\"is_fraud\"] == \"1\"]\n",
    "\n",
    "merchants = []\n",
    "categories = []\n",
    "fraud_counts = []\n",
    "states = []\n",
    "\n",
    "# Iterate over the filtered data\n",
    "for i, row in data_is_fraud.iterrows():\n",
    "    merchant = row['merchant']\n",
    "    category = row['category']\n",
    "    state = row['state']\n",
    "    \n",
    "    if merchant not in merchants:\n",
    "        merchants.append(merchant)\n",
    "        categories.append(category)\n",
    "        fraud_counts.append(1)\n",
    "        states.append(state)\n",
    "    else: \n",
    "        index = merchants.index(merchant)\n",
    "        fraud_counts[index] += 1\n",
    "\n",
    "# Create the DataFrame with merchants, categories, and fraud counts\n",
    "merchant_fraud_df = pd.DataFrame({\n",
    "    \"Merchant\": merchants,\n",
    "    \"Category\": categories,\n",
    "    \"Fraud Count\": fraud_counts,\n",
    "    \"states\": states\n",
    "})\n",
    "\n",
    "# Sort the DataFrame by fraud count in descending order\n",
    "sorted_merchant_fraud_df = merchant_fraud_df.sort_values(by=\"Fraud Count\", ascending=False)\n",
    "\n",
    "merchant_fraud_df = sorted_merchant_fraud_df.head(10)\n",
    "\n",
    "sorted_merchant_fraud_df.head(10)\n"
   ]
  },
  {
   "cell_type": "markdown",
   "metadata": {},
   "source": [
    "### Bar Charts displaying the fraud rate for each category. "
   ]
  },
  {
   "cell_type": "code",
   "execution_count": 14,
   "metadata": {},
   "outputs": [
    {
     "data": {
      "image/png": "[encoded data removed]",
      "text/plain": [
       "<Figure size 640x480 with 1 Axes>"
      ]
     },
     "metadata": {},
     "output_type": "display_data"
    }
   ],
   "source": [
    "\n",
    "\n",
    "plt.bar(merchant_fraud_df['Category'], merchant_fraud_df['Fraud Count'])\n",
    "\n",
    "# Optionally add labels and title\n",
    "plt.xlabel('Category')\n",
    "plt.ylabel('Fraud Count')\n",
    "plt.title('Fraud Rate For Each Category')\n",
    "\n",
    "# Show the plot\n",
    "plt.show()"
   ]
  },
  {
   "cell_type": "markdown",
   "metadata": {},
   "source": [
    "### Bar Chart displaying fraud Rate Per State"
   ]
  },
  {
   "cell_type": "code",
   "execution_count": 16,
   "metadata": {},
   "outputs": [
    {
     "data": {
      "image/png": "[encoded data removed]",
      "text/plain": [
       "<Figure size 640x480 with 1 Axes>"
      ]
     },
     "metadata": {},
     "output_type": "display_data"
    }
   ],
   "source": [
    "plt.bar(merchant_fraud_df['states'], merchant_fraud_df['Fraud Count'])\n",
    "\n",
    "# Optionally add labels and title\n",
    "plt.xlabel('State')\n",
    "plt.ylabel('Fraud Count')\n",
    "plt.title('Fraud Rate Per State')\n",
    "\n",
    "# Show the plot\n",
    "plt.show()"
   ]
  }
 ],
 "metadata": {
  "kernelspec": {
   "display_name": "AnacondaEnv",
   "language": "python",
   "name": "python3"
  },
  "language_info": {
   "codemirror_mode": {
    "name": "ipython",
    "version": 3
   },
   "file_extension": ".py",
   "mimetype": "text/x-python",
   "name": "python",
   "nbconvert_exporter": "python",
   "pygments_lexer": "ipython3",
   "version": "3.12.4"
  }
 },
 "nbformat": 4,
 "nbformat_minor": 2
}
