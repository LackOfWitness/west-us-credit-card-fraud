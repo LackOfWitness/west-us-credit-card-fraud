{
 "cells": [
  {
   "cell_type": "code",
   "execution_count": 1,
   "metadata": {},
   "outputs": [],
   "source": [
    "# Load dependencies\n",
    "\n",
    "import numpy as np\n",
    "import pandas as pd\n",
    "import matplotlib.pyplot as plt\n",
    "import seaborn as sns\n",
    "import os\n"
   ]
  },
  {
   "cell_type": "code",
   "execution_count": 14,
   "metadata": {},
   "outputs": [
    {
     "name": "stdout",
     "output_type": "stream",
     "text": [
      "                amt           lat          long      city_pop     merch_lat  \\\n",
      "count  14446.000000  14446.000000  14446.000000  1.444600e+04  14446.000000   \n",
      "mean     124.430073     39.787692   -110.874225  1.065370e+05     39.787991   \n",
      "std      231.352587      5.317039     12.985813  2.902916e+05      5.360593   \n",
      "min        1.000000     20.027100   -165.672300  4.600000e+01     19.032689   \n",
      "25%       12.080000     36.715400   -120.415800  4.930000e+02     36.794655   \n",
      "50%       51.520000     39.666200   -111.098500  1.645000e+03     39.620953   \n",
      "75%      101.030000     41.940400   -101.136000  3.543900e+04     42.275740   \n",
      "max     3261.470000     66.693300    -89.628700  2.383912e+06     67.510267   \n",
      "\n",
      "         merch_long  \n",
      "count  14446.000000  \n",
      "mean    -110.874892  \n",
      "std       12.995596  \n",
      "min     -166.670685  \n",
      "25%     -120.146253  \n",
      "50%     -111.192629  \n",
      "75%     -100.446822  \n",
      "max      -88.646366  \n",
      "<class 'pandas.core.frame.DataFrame'>\n",
      "RangeIndex: 14446 entries, 0 to 14445\n",
      "Data columns (total 15 columns):\n",
      " #   Column                 Non-Null Count  Dtype  \n",
      "---  ------                 --------------  -----  \n",
      " 0   trans_date_trans_time  14446 non-null  object \n",
      " 1   merchant               14446 non-null  object \n",
      " 2   category               14446 non-null  object \n",
      " 3   amt                    14446 non-null  float64\n",
      " 4   city                   14446 non-null  object \n",
      " 5   state                  14446 non-null  object \n",
      " 6   lat                    14446 non-null  float64\n",
      " 7   long                   14446 non-null  float64\n",
      " 8   city_pop               14446 non-null  int64  \n",
      " 9   job                    14446 non-null  object \n",
      " 10  dob                    14446 non-null  object \n",
      " 11  trans_num              14446 non-null  object \n",
      " 12  merch_lat              14446 non-null  float64\n",
      " 13  merch_long             14446 non-null  float64\n",
      " 14  is_fraud               14446 non-null  object \n",
      "dtypes: float64(5), int64(1), object(9)\n",
      "memory usage: 1.7+ MB\n",
      "None\n"
     ]
    }
   ],
   "source": [
    "# Load data from the csv file\n",
    "\n",
    "fraud_data = pd.read_csv(\"Dataset/fraud_data.csv\")\n",
    "\n",
    "# Descriptive statistics of the data\n",
    "print(fraud_data.describe())\n",
    "\n",
    "# Describe the data\n",
    "print(fraud_data.info())"
   ]
  },
  {
   "cell_type": "code",
   "execution_count": null,
   "metadata": {},
   "outputs": [],
   "source": []
  }
 ],
 "metadata": {
  "kernelspec": {
   "display_name": "AnacondaEnv",
   "language": "python",
   "name": "python3"
  },
  "language_info": {
   "codemirror_mode": {
    "name": "ipython",
    "version": 3
   },
   "file_extension": ".py",
   "mimetype": "text/x-python",
   "name": "python",
   "nbconvert_exporter": "python",
   "pygments_lexer": "ipython3",
   "version": "3.10.14"
  }
 },
 "nbformat": 4,
 "nbformat_minor": 2
}
